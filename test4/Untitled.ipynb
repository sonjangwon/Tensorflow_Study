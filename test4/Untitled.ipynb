{
 "cells": [
  {
   "cell_type": "code",
   "execution_count": 3,
   "metadata": {},
   "outputs": [
    {
     "ename": "AttributeError",
     "evalue": "'dict' object has no attribute 'itervalues'",
     "output_type": "error",
     "traceback": [
      "\u001b[1;31m---------------------------------------------------------------------------\u001b[0m",
      "\u001b[1;31mAttributeError\u001b[0m                            Traceback (most recent call last)",
      "\u001b[1;32m<ipython-input-3-ed4b688877db>\u001b[0m in \u001b[0;36m<module>\u001b[1;34m()\u001b[0m\n\u001b[0;32m     43\u001b[0m \u001b[1;33m\u001b[0m\u001b[0m\n\u001b[0;32m     44\u001b[0m     \u001b[0mcluster_size\u001b[0m \u001b[1;33m=\u001b[0m \u001b[1;36m100\u001b[0m \u001b[1;31m#set the cluster's size\u001b[0m\u001b[1;33m\u001b[0m\u001b[0m\n\u001b[1;32m---> 45\u001b[1;33m     \u001b[0mcluster_center\u001b[0m\u001b[1;33m,\u001b[0m \u001b[0mresult\u001b[0m\u001b[1;33m,\u001b[0m \u001b[0minertia\u001b[0m \u001b[1;33m=\u001b[0m \u001b[0mmodel\u001b[0m\u001b[1;33m.\u001b[0m\u001b[0mclustering\u001b[0m\u001b[1;33m(\u001b[0m\u001b[0mcluster_size\u001b[0m\u001b[1;33m)\u001b[0m\u001b[1;33m\u001b[0m\u001b[0m\n\u001b[0m\u001b[0;32m     46\u001b[0m     \u001b[0mkeys\u001b[0m \u001b[1;33m=\u001b[0m \u001b[0mmodel\u001b[0m\u001b[1;33m.\u001b[0m\u001b[0mword_dic\u001b[0m\u001b[1;33m.\u001b[0m\u001b[0mkeys\u001b[0m\u001b[1;33m(\u001b[0m\u001b[1;33m)\u001b[0m \u001b[1;31m# get all the words\u001b[0m\u001b[1;33m\u001b[0m\u001b[0m\n\u001b[0;32m     47\u001b[0m \u001b[1;33m\u001b[0m\u001b[0m\n",
      "\u001b[1;32m<ipython-input-3-ed4b688877db>\u001b[0m in \u001b[0;36mclustering\u001b[1;34m(self, cluster_size)\u001b[0m\n\u001b[0;32m     34\u001b[0m \u001b[1;33m\u001b[0m\u001b[0m\n\u001b[0;32m     35\u001b[0m     \u001b[1;32mdef\u001b[0m \u001b[0mclustering\u001b[0m\u001b[1;33m(\u001b[0m\u001b[0mself\u001b[0m\u001b[1;33m,\u001b[0m \u001b[0mcluster_size\u001b[0m\u001b[1;33m)\u001b[0m\u001b[1;33m:\u001b[0m\u001b[1;33m\u001b[0m\u001b[0m\n\u001b[1;32m---> 36\u001b[1;33m         \u001b[0mX\u001b[0m \u001b[1;33m=\u001b[0m \u001b[0mnp\u001b[0m\u001b[1;33m.\u001b[0m\u001b[0marray\u001b[0m\u001b[1;33m(\u001b[0m\u001b[0mlist\u001b[0m\u001b[1;33m(\u001b[0m\u001b[0mself\u001b[0m\u001b[1;33m.\u001b[0m\u001b[0mword_dic\u001b[0m\u001b[1;33m.\u001b[0m\u001b[0mitervalues\u001b[0m\u001b[1;33m(\u001b[0m\u001b[1;33m)\u001b[0m\u001b[1;33m)\u001b[0m\u001b[1;33m)\u001b[0m\u001b[1;33m\u001b[0m\u001b[0m\n\u001b[0m\u001b[0;32m     37\u001b[0m         \u001b[1;32mreturn\u001b[0m \u001b[0mk_means\u001b[0m\u001b[1;33m(\u001b[0m\u001b[0mX\u001b[0m\u001b[1;33m,\u001b[0m \u001b[0mn_clusters\u001b[0m\u001b[1;33m=\u001b[0m \u001b[0mcluster_size\u001b[0m\u001b[1;33m,\u001b[0m \u001b[0minit\u001b[0m\u001b[1;33m=\u001b[0m \u001b[1;34m\"k-means++\"\u001b[0m\u001b[1;33m)\u001b[0m\u001b[1;33m\u001b[0m\u001b[0m\n\u001b[0;32m     38\u001b[0m \u001b[1;33m\u001b[0m\u001b[0m\n",
      "\u001b[1;31mAttributeError\u001b[0m: 'dict' object has no attribute 'itervalues'"
     ]
    }
   ],
   "source": [
    "#!/usr/bin/python\n",
    "# -*- coding: utf-8 -*-\n",
    "\n",
    "# author  : eclipse\n",
    "# email   : adooadoo@163.com\n",
    "import numpy as np\n",
    "from sklearn.cluster import k_means\n",
    "import datetime\n",
    "import os\n",
    "\n",
    "class Glove():\n",
    "    \"\"\"\n",
    "    Class for training, using and evaluating glove described in https://code.google.com/p/word2vec/\n",
    "\n",
    "    The model has three methods:\n",
    "    1.consine_distance: Calculating the two different word vectors' consine distance\n",
    "    2.MostSimilarWord: Finding the topN closest words of the given word\n",
    "    3.clustering: Using sklearn's kmeans to clustering\n",
    "\n",
    "    \"\"\"\n",
    "    def __init__(self, fUrl):\n",
    "        \"\"\"\n",
    "        load model(no-binary model)\n",
    "        \"\"\"\n",
    "        with open(fUrl) as f:\n",
    "            self.word_dic = {line.split()[0]:np.asarray(line.split()[1:], dtype='float') for line in f}\n",
    "\n",
    "    def consine_distance(self, word1, word2):\n",
    "        return np.dot(self.word_dic[word1],self.word_dic[word2]) \\\n",
    "            /(np.linalg.norm(self.word_dic[word1])* np.linalg.norm(self.word_dic[word2]))\n",
    "\n",
    "    def MostSimilarWord(self, word,TopN = 30):\n",
    "        #print self.word_dic['china']\n",
    "        return sorted({word2:self.consine_distance(word, word2) for word2 in self.word_dic.keys()}.items(), \\\n",
    "            lambda x, y: cmp(x[1], y[1]), reverse= True) [1:TopN+1]\n",
    "\n",
    "    def clustering(self, cluster_size):\n",
    "        X = np.array(list(self.word_dic.itervalues()))\n",
    "        return k_means(X, n_clusters= cluster_size, init= \"k-means++\")\n",
    "\n",
    "if __name__ == \"__main__\":\n",
    "    starttime = datetime.datetime.now()\n",
    "    model = Glove(\"vectors.txt\") #load model\n",
    "    #print(model.MostSimilarWord('china'))\n",
    "\n",
    "    cluster_size = 100 #set the cluster's size\n",
    "    cluster_center, result, inertia = model.clustering(cluster_size)\n",
    "    keys = model.word_dic.keys() # get all the words\n",
    "\n",
    "    #write the result into a folder\n",
    "    resultUrl = 'result'\n",
    "    os.mkdir(resultUrl)\n",
    "    f_list = [open(resultUrl+'/'+str(i)+'.txt','w') for i in xrange(cluster_size)]\n",
    "    [f_list[result_num].write(keys[i]+'\\n') for (i, result_num) in enumerate(result)]\n",
    "    [f_list[i].close() for i in xrange(cluster_size)]#close all the file\n",
    "    \n",
    "    r = dict(zip(keys, result))\n",
    "    print(r['china'])\n",
    "    print(r['father'])\n",
    "    endtime = datetime.datetime.now()\n",
    "    print('Time:', (endtime - starttime).seconds,'s')\n",
    "    "
   ]
  },
  {
   "cell_type": "code",
   "execution_count": null,
   "metadata": {
    "collapsed": true
   },
   "outputs": [],
   "source": []
  }
 ],
 "metadata": {
  "kernelspec": {
   "display_name": "Python 3",
   "language": "python",
   "name": "python3"
  }
 },
 "nbformat": 4,
 "nbformat_minor": 2
}
